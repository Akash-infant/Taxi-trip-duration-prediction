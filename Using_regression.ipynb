{
  "nbformat": 4,
  "nbformat_minor": 0,
  "metadata": {
    "colab": {
      "provenance": [],
      "mount_file_id": "1b8I3MBGzC4_woNVPHJ_3fCHt3qU_2125",
      "authorship_tag": "ABX9TyPM1zNsR8lOZXlwl5sq5C9Z",
      "include_colab_link": true
    },
    "kernelspec": {
      "name": "python3",
      "display_name": "Python 3"
    },
    "language_info": {
      "name": "python"
    }
  },
  "cells": [
    {
      "cell_type": "markdown",
      "metadata": {
        "id": "view-in-github",
        "colab_type": "text"
      },
      "source": [
        "<a href=\"https://colab.research.google.com/github/Akash-infant/Taxi-trip-duration-prediction/blob/main/Using_regression.ipynb\" target=\"_parent\"><img src=\"https://colab.research.google.com/assets/colab-badge.svg\" alt=\"Open In Colab\"/></a>"
      ]
    },
    {
      "cell_type": "markdown",
      "source": [
        "**Approach - 2**"
      ],
      "metadata": {
        "id": "8L0lkfaFGx50"
      }
    },
    {
      "cell_type": "markdown",
      "source": [
        "**Predicting trip duration using Gradient Boosting Tree Regressor**"
      ],
      "metadata": {
        "id": "LUTxsS0-F0mH"
      }
    },
    {
      "cell_type": "code",
      "execution_count": 1,
      "metadata": {
        "colab": {
          "base_uri": "https://localhost:8080/"
        },
        "id": "sczDuS2FKuPL",
        "outputId": "59b3e02c-9a10-4573-bf4a-ae0a357fb388"
      },
      "outputs": [
        {
          "output_type": "stream",
          "name": "stdout",
          "text": [
            "Collecting pyspark\n",
            "  Downloading pyspark-3.5.0.tar.gz (316.9 MB)\n",
            "\u001b[2K     \u001b[90m━━━━━━━━━━━━━━━━━━━━━━━━━━━━━━━━━━━━━━━━\u001b[0m \u001b[32m316.9/316.9 MB\u001b[0m \u001b[31m3.3 MB/s\u001b[0m eta \u001b[36m0:00:00\u001b[0m\n",
            "\u001b[?25h  Preparing metadata (setup.py) ... \u001b[?25l\u001b[?25hdone\n",
            "Requirement already satisfied: py4j==0.10.9.7 in /usr/local/lib/python3.10/dist-packages (from pyspark) (0.10.9.7)\n",
            "Building wheels for collected packages: pyspark\n",
            "  Building wheel for pyspark (setup.py) ... \u001b[?25l\u001b[?25hdone\n",
            "  Created wheel for pyspark: filename=pyspark-3.5.0-py2.py3-none-any.whl size=317425345 sha256=e45729414872c8ebfa2f1ae8a0e01c78419ec87d32dd1ddd062a746c04dace9f\n",
            "  Stored in directory: /root/.cache/pip/wheels/41/4e/10/c2cf2467f71c678cfc8a6b9ac9241e5e44a01940da8fbb17fc\n",
            "Successfully built pyspark\n",
            "Installing collected packages: pyspark\n",
            "Successfully installed pyspark-3.5.0\n"
          ]
        }
      ],
      "source": [
        "!pip install pyspark"
      ]
    },
    {
      "cell_type": "markdown",
      "source": [
        "Importing necesscary packages"
      ],
      "metadata": {
        "id": "oaIcF-WaHW-Z"
      }
    },
    {
      "cell_type": "code",
      "source": [
        "from pyspark import SparkContext, SparkConf\n",
        "from pyspark.sql import SparkSession\n",
        "import pandas as pd\n",
        "import datetime\n",
        "from pyspark.sql.functions import col, udf\n",
        "from pyspark.sql.types import FloatType\n",
        "from geopy.distance import geodesic\n",
        "from datetime import datetime\n"
      ],
      "metadata": {
        "id": "XAKwlyc9LS-v"
      },
      "execution_count": 2,
      "outputs": []
    },
    {
      "cell_type": "code",
      "source": [
        "conf = SparkConf().setAppName(\"TaxiDistanceForecasting-reg\")\n",
        "sc = SparkContext(conf=conf)\n",
        "spark = SparkSession(sc)"
      ],
      "metadata": {
        "id": "3ebHt5qVLTBb"
      },
      "execution_count": 3,
      "outputs": []
    },
    {
      "cell_type": "markdown",
      "source": [
        "Importing Data"
      ],
      "metadata": {
        "id": "IzoSUmZNHdTH"
      }
    },
    {
      "cell_type": "code",
      "source": [
        "train_file = \"/content/drive/My Drive/Taxi Demand/train.csv\"\n",
        "test_file = \"/content/drive/My Drive/Taxi Demand/test.csv\"\n",
        "\n"
      ],
      "metadata": {
        "id": "3of17BakLTEC"
      },
      "execution_count": 4,
      "outputs": []
    },
    {
      "cell_type": "code",
      "source": [
        "train_df = spark.read.csv(train_file, header=True)\n",
        "test_df = spark.read.csv(test_file,header=True)"
      ],
      "metadata": {
        "id": "z5ebc0kHLTGm"
      },
      "execution_count": 5,
      "outputs": []
    },
    {
      "cell_type": "code",
      "source": [
        "train_rows = train_df.count()\n",
        "train_rows"
      ],
      "metadata": {
        "colab": {
          "base_uri": "https://localhost:8080/"
        },
        "id": "_ONv3GCBLnhW",
        "outputId": "00cf7309-b13d-4f76-d3bf-416b30ce271d"
      },
      "execution_count": 6,
      "outputs": [
        {
          "output_type": "execute_result",
          "data": {
            "text/plain": [
              "1458644"
            ]
          },
          "metadata": {},
          "execution_count": 6
        }
      ]
    },
    {
      "cell_type": "code",
      "source": [
        "test_rows=test_df.count()\n",
        "test_rows"
      ],
      "metadata": {
        "colab": {
          "base_uri": "https://localhost:8080/"
        },
        "id": "p9sheofgLnkB",
        "outputId": "d5084f00-842d-4e0d-9503-b0b5cc55a481"
      },
      "execution_count": 7,
      "outputs": [
        {
          "output_type": "execute_result",
          "data": {
            "text/plain": [
              "625134"
            ]
          },
          "metadata": {},
          "execution_count": 7
        }
      ]
    },
    {
      "cell_type": "code",
      "source": [
        "train_df.show(5)\n",
        "test_df.show(5)"
      ],
      "metadata": {
        "colab": {
          "base_uri": "https://localhost:8080/"
        },
        "id": "F02iDkDVLnmm",
        "outputId": "74c1d1ae-a594-4b11-f7dc-2a34b80d3536"
      },
      "execution_count": 8,
      "outputs": [
        {
          "output_type": "stream",
          "name": "stdout",
          "text": [
            "+---------+---------+-------------------+-------------------+---------------+-------------------+------------------+-------------------+------------------+------------------+-------------+\n",
            "|       id|vendor_id|    pickup_datetime|   dropoff_datetime|passenger_count|   pickup_longitude|   pickup_latitude|  dropoff_longitude|  dropoff_latitude|store_and_fwd_flag|trip_duration|\n",
            "+---------+---------+-------------------+-------------------+---------------+-------------------+------------------+-------------------+------------------+------------------+-------------+\n",
            "|id2875421|        2|2016-03-14 17:24:55|2016-03-14 17:32:30|              1|-73.982154846191406|40.767936706542969|-73.964630126953125|40.765602111816406|                 N|          455|\n",
            "|id2377394|        1|2016-06-12 00:43:35|2016-06-12 00:54:38|              1|-73.980415344238281|40.738563537597656|-73.999481201171875|40.731151580810547|                 N|          663|\n",
            "|id3858529|        2|2016-01-19 11:35:24|2016-01-19 12:10:48|              1|-73.979026794433594|40.763938903808594|-74.005332946777344|40.710086822509766|                 N|         2124|\n",
            "|id3504673|        2|2016-04-06 19:32:31|2016-04-06 19:39:40|              1|-74.010040283203125|   40.719970703125| -74.01226806640625|40.706718444824219|                 N|          429|\n",
            "|id2181028|        2|2016-03-26 13:30:55|2016-03-26 13:38:10|              1|-73.973052978515625|40.793209075927734|-73.972923278808594|40.782520294189453|                 N|          435|\n",
            "+---------+---------+-------------------+-------------------+---------------+-------------------+------------------+-------------------+------------------+------------------+-------------+\n",
            "only showing top 5 rows\n",
            "\n",
            "+---------+---------+-------------------+---------------+-------------------+------------------+-------------------+------------------+------------------+\n",
            "|       id|vendor_id|    pickup_datetime|passenger_count|   pickup_longitude|   pickup_latitude|  dropoff_longitude|  dropoff_latitude|store_and_fwd_flag|\n",
            "+---------+---------+-------------------+---------------+-------------------+------------------+-------------------+------------------+------------------+\n",
            "|id3004672|        1|2016-06-30 23:59:58|              1|-73.988128662109375|40.732028961181641| -73.99017333984375|40.756679534912109|                 N|\n",
            "|id3505355|        1|2016-06-30 23:59:53|              1|-73.964202880859375| 40.67999267578125|-73.959808349609375|40.655403137207031|                 N|\n",
            "|id1217141|        1|2016-06-30 23:59:47|              1|  -73.9974365234375|40.737583160400391|-73.986160278320312|40.729522705078125|                 N|\n",
            "|id2150126|        2|2016-06-30 23:59:41|              1|-73.956069946289063|40.771900177001953|-73.986427307128906|       40.73046875|                 N|\n",
            "|id1598245|        1|2016-06-30 23:59:33|              1|    -73.97021484375|   40.761474609375|-73.961509704589844|40.755889892578125|                 N|\n",
            "+---------+---------+-------------------+---------------+-------------------+------------------+-------------------+------------------+------------------+\n",
            "only showing top 5 rows\n",
            "\n"
          ]
        }
      ]
    },
    {
      "cell_type": "markdown",
      "source": [
        "Data pre-processing"
      ],
      "metadata": {
        "id": "aP55peo3HiGF"
      }
    },
    {
      "cell_type": "code",
      "source": [
        "# Checking for null values\n",
        "\n",
        "from pyspark.sql.functions import isnull, count, when\n",
        "\n",
        "\n",
        "missing_values_expr = [count(when(isnull(c), c)).alias(c) for c in train_df.columns]\n",
        "\n",
        "\n",
        "missing_values_df = train_df.agg(*missing_values_expr)\n",
        "\n",
        "missing_values_df.show()"
      ],
      "metadata": {
        "colab": {
          "base_uri": "https://localhost:8080/"
        },
        "id": "C6F38fVyLnpQ",
        "outputId": "7048d3d0-ce8a-434e-9704-73dd4b86ddce"
      },
      "execution_count": 9,
      "outputs": [
        {
          "output_type": "stream",
          "name": "stdout",
          "text": [
            "+---+---------+---------------+----------------+---------------+----------------+---------------+-----------------+----------------+------------------+-------------+\n",
            "| id|vendor_id|pickup_datetime|dropoff_datetime|passenger_count|pickup_longitude|pickup_latitude|dropoff_longitude|dropoff_latitude|store_and_fwd_flag|trip_duration|\n",
            "+---+---------+---------------+----------------+---------------+----------------+---------------+-----------------+----------------+------------------+-------------+\n",
            "|  0|        0|              0|               0|              0|               0|              0|                0|               0|                 0|            0|\n",
            "+---+---------+---------------+----------------+---------------+----------------+---------------+-----------------+----------------+------------------+-------------+\n",
            "\n"
          ]
        }
      ]
    },
    {
      "cell_type": "markdown",
      "source": [
        "Feature engineering and EDA"
      ],
      "metadata": {
        "id": "JRlI2bJGHo6t"
      }
    },
    {
      "cell_type": "code",
      "source": [
        "@udf(returnType=FloatType())\n",
        "def get_distance_udf(source_lat, source_long, dest_lat, dest_long):\n",
        "    return geodesic((source_lat, source_long), (dest_lat, dest_long)).miles\n",
        "\n",
        "# creating new column \"distance\"  - calculated using geodesic library (both in train and test)\n",
        "train_df = train_df.withColumn(\"distance\", get_distance_udf(\"pickup_latitude\", \"pickup_longitude\", \"dropoff_latitude\", \"dropoff_longitude\"))"
      ],
      "metadata": {
        "id": "oXv3PMiQL6Tv"
      },
      "execution_count": 10,
      "outputs": []
    },
    {
      "cell_type": "code",
      "source": [
        "test_df = test_df.withColumn(\"distance\", get_distance_udf(\"pickup_latitude\", \"pickup_longitude\", \"dropoff_latitude\", \"dropoff_longitude\"))\n",
        "test_df.show(5)"
      ],
      "metadata": {
        "colab": {
          "base_uri": "https://localhost:8080/"
        },
        "id": "YtQyWFolL-5I",
        "outputId": "58125efe-ab82-44fe-e7fb-51ef2e7587ca"
      },
      "execution_count": 11,
      "outputs": [
        {
          "output_type": "stream",
          "name": "stdout",
          "text": [
            "+---------+---------+-------------------+---------------+-------------------+------------------+-------------------+------------------+------------------+---------+\n",
            "|       id|vendor_id|    pickup_datetime|passenger_count|   pickup_longitude|   pickup_latitude|  dropoff_longitude|  dropoff_latitude|store_and_fwd_flag| distance|\n",
            "+---------+---------+-------------------+---------------+-------------------+------------------+-------------------+------------------+------------------+---------+\n",
            "|id3004672|        1|2016-06-30 23:59:58|              1|-73.988128662109375|40.732028961181641| -73.99017333984375|40.756679534912109|                 N|1.7043358|\n",
            "|id3505355|        1|2016-06-30 23:59:53|              1|-73.964202880859375| 40.67999267578125|-73.959808349609375|40.655403137207031|                 N|1.7123582|\n",
            "|id1217141|        1|2016-06-30 23:59:47|              1|  -73.9974365234375|40.737583160400391|-73.986160278320312|40.729522705078125|                 N|0.8122017|\n",
            "|id2150126|        2|2016-06-30 23:59:41|              1|-73.956069946289063|40.771900177001953|-73.986427307128906|       40.73046875|                 N|3.2727487|\n",
            "|id1598245|        1|2016-06-30 23:59:33|              1|    -73.97021484375|   40.761474609375|-73.961509704589844|40.755889892578125|                 N|0.5976009|\n",
            "+---------+---------+-------------------+---------------+-------------------+------------------+-------------------+------------------+------------------+---------+\n",
            "only showing top 5 rows\n",
            "\n"
          ]
        }
      ]
    },
    {
      "cell_type": "code",
      "source": [
        "# dropping ID from both train and test because it is unique and not useful to our result\n",
        "train_df = train_df.select([col(column) for column in train_df.columns if column != \"id\"])\n",
        "\n",
        "\n",
        "test_df = test_df.select([col(column) for column in test_df.columns if column != \"id\"])"
      ],
      "metadata": {
        "id": "P_AgRi1cMQuZ"
      },
      "execution_count": 12,
      "outputs": []
    },
    {
      "cell_type": "code",
      "source": [
        "vendor_id_counts = train_df.groupBy(\"vendor_id\").count().orderBy(\"count\", ascending=False)\n",
        "\n",
        "# Show the result\n",
        "vendor_id_counts.show()"
      ],
      "metadata": {
        "colab": {
          "base_uri": "https://localhost:8080/"
        },
        "id": "NaQI6buwMSMJ",
        "outputId": "fc0ada76-542e-4816-c188-7223adc84f6f"
      },
      "execution_count": 13,
      "outputs": [
        {
          "output_type": "stream",
          "name": "stdout",
          "text": [
            "+---------+------+\n",
            "|vendor_id| count|\n",
            "+---------+------+\n",
            "|        2|780302|\n",
            "|        1|678342|\n",
            "+---------+------+\n",
            "\n"
          ]
        }
      ]
    },
    {
      "cell_type": "code",
      "source": [
        "passenger_count_train_counts = train_df.groupBy(\"passenger_count\").count().orderBy(\"count\", ascending=False)\n",
        "\n",
        "# Show the result for train_df\n",
        "passenger_count_train_counts.show()"
      ],
      "metadata": {
        "colab": {
          "base_uri": "https://localhost:8080/"
        },
        "id": "2F3B-lIxMXOo",
        "outputId": "ed839458-4bee-4509-9671-7b097c7d73ed"
      },
      "execution_count": 14,
      "outputs": [
        {
          "output_type": "stream",
          "name": "stdout",
          "text": [
            "+---------------+-------+\n",
            "|passenger_count|  count|\n",
            "+---------------+-------+\n",
            "|              1|1033540|\n",
            "|              2| 210318|\n",
            "|              5|  78088|\n",
            "|              3|  59896|\n",
            "|              6|  48333|\n",
            "|              4|  28404|\n",
            "|              0|     60|\n",
            "|              7|      3|\n",
            "|              9|      1|\n",
            "|              8|      1|\n",
            "+---------------+-------+\n",
            "\n"
          ]
        }
      ]
    },
    {
      "cell_type": "code",
      "source": [
        "from pyspark.sql.functions import col, hour, minute, dayofweek, month\n",
        "train_df = train_df.withColumn(\"pickup_datetime\", col(\"pickup_datetime\").cast(\"timestamp\"))\n",
        "test_df = test_df.withColumn(\"pickup_datetime\", col(\"pickup_datetime\").cast(\"timestamp\"))\n",
        "\n",
        "# Extract hour, minute, minute_oftheday, day_week, and month from \"pickup_datetime\" for train_df\n",
        "train_df = train_df.withColumn(\"hour\", hour(\"pickup_datetime\"))\n",
        "train_df = train_df.withColumn(\"minute\", minute(\"pickup_datetime\"))\n",
        "train_df = train_df.withColumn(\"minute_oftheday\", col(\"hour\") * 60 + col(\"minute\"))\n",
        "train_df = train_df.withColumn(\"day_week\", dayofweek(\"pickup_datetime\"))\n",
        "train_df = train_df.withColumn(\"month\", month(\"pickup_datetime\"))\n",
        "\n",
        "# Extract hour, minute, minute_oftheday, day_week, and month from \"pickup_datetime\" for test_df\n",
        "test_df = test_df.withColumn(\"hour\", hour(\"pickup_datetime\"))\n",
        "test_df = test_df.withColumn(\"minute\", minute(\"pickup_datetime\"))\n",
        "test_df = test_df.withColumn(\"minute_oftheday\", col(\"hour\") * 60 + col(\"minute\"))\n",
        "test_df = test_df.withColumn(\"day_week\", dayofweek(\"pickup_datetime\"))\n",
        "test_df = test_df.withColumn(\"month\", month(\"pickup_datetime\"))"
      ],
      "metadata": {
        "id": "Ngm8Azf1MahV"
      },
      "execution_count": 15,
      "outputs": []
    },
    {
      "cell_type": "code",
      "source": [
        "#since the date feature is a string data it cannot be processed,So we have extracted the data from it and dropping the column\n",
        "train_df = train_df.drop(\"pickup_datetime\", \"dropoff_datetime\")\n",
        "\n",
        "test_df = test_df.drop(\"pickup_datetime\")"
      ],
      "metadata": {
        "id": "H95zRTTUM2C4"
      },
      "execution_count": 16,
      "outputs": []
    },
    {
      "cell_type": "code",
      "source": [
        "from pyspark.sql.functions import when\n",
        "\n",
        "\n",
        "\n",
        "# Replace 'N' with 0 and 'Y' with 1 in the train data -> ENCODING CATEGORICAL VALUES\n",
        "train_df = train_df.withColumn('store_and_fwd_flag', when(col('store_and_fwd_flag') == 'N', 0).otherwise(1))\n",
        "\n",
        "train_df.show(5)\n",
        "\n",
        "# Replace 'N' with 0 and 'Y' with 1 in the test data\n",
        "test_df = test_df.withColumn('store_and_fwd_flag', when(col('store_and_fwd_flag') == 'N', 0).otherwise(1))\n",
        "\n",
        "# Show the updated test DataFrame\n",
        "test_df.show(5)\n"
      ],
      "metadata": {
        "colab": {
          "base_uri": "https://localhost:8080/"
        },
        "id": "5HOiOgVrNk4M",
        "outputId": "8a4dd732-a446-4976-d09c-efaf488a6d42"
      },
      "execution_count": 17,
      "outputs": [
        {
          "output_type": "stream",
          "name": "stdout",
          "text": [
            "+---------+---------------+-------------------+------------------+-------------------+------------------+------------------+-------------+---------+----+------+---------------+--------+-----+\n",
            "|vendor_id|passenger_count|   pickup_longitude|   pickup_latitude|  dropoff_longitude|  dropoff_latitude|store_and_fwd_flag|trip_duration| distance|hour|minute|minute_oftheday|day_week|month|\n",
            "+---------+---------------+-------------------+------------------+-------------------+------------------+------------------+-------------+---------+----+------+---------------+--------+-----+\n",
            "|        2|              1|-73.982154846191406|40.767936706542969|-73.964630126953125|40.765602111816406|                 0|          455|0.9334063|  17|    24|           1044|       2|    3|\n",
            "|        1|              1|-73.980415344238281|40.738563537597656|-73.999481201171875|40.731151580810547|                 0|          663|1.1238492|   0|    43|             43|       1|    6|\n",
            "|        2|              1|-73.979026794433594|40.763938903808594|-74.005332946777344|40.710086822509766|                 0|         2124|3.9641538|  11|    35|            695|       3|    1|\n",
            "|        2|              1|-74.010040283203125|   40.719970703125| -74.01226806640625|40.706718444824219|                 0|          429|0.9218865|  19|    32|           1172|       4|    4|\n",
            "|        2|              1|-73.973052978515625|40.793209075927734|-73.972923278808594|40.782520294189453|                 0|          435| 0.737591|  13|    30|            810|       7|    3|\n",
            "+---------+---------------+-------------------+------------------+-------------------+------------------+------------------+-------------+---------+----+------+---------------+--------+-----+\n",
            "only showing top 5 rows\n",
            "\n",
            "+---------+---------------+-------------------+------------------+-------------------+------------------+------------------+---------+----+------+---------------+--------+-----+\n",
            "|vendor_id|passenger_count|   pickup_longitude|   pickup_latitude|  dropoff_longitude|  dropoff_latitude|store_and_fwd_flag| distance|hour|minute|minute_oftheday|day_week|month|\n",
            "+---------+---------------+-------------------+------------------+-------------------+------------------+------------------+---------+----+------+---------------+--------+-----+\n",
            "|        1|              1|-73.988128662109375|40.732028961181641| -73.99017333984375|40.756679534912109|                 0|1.7043358|  23|    59|           1439|       5|    6|\n",
            "|        1|              1|-73.964202880859375| 40.67999267578125|-73.959808349609375|40.655403137207031|                 0|1.7123582|  23|    59|           1439|       5|    6|\n",
            "|        1|              1|  -73.9974365234375|40.737583160400391|-73.986160278320312|40.729522705078125|                 0|0.8122017|  23|    59|           1439|       5|    6|\n",
            "|        2|              1|-73.956069946289063|40.771900177001953|-73.986427307128906|       40.73046875|                 0|3.2727487|  23|    59|           1439|       5|    6|\n",
            "|        1|              1|    -73.97021484375|   40.761474609375|-73.961509704589844|40.755889892578125|                 0|0.5976009|  23|    59|           1439|       5|    6|\n",
            "+---------+---------------+-------------------+------------------+-------------------+------------------+------------------+---------+----+------+---------------+--------+-----+\n",
            "only showing top 5 rows\n",
            "\n"
          ]
        }
      ]
    },
    {
      "cell_type": "code",
      "source": [
        "from pyspark.sql.functions import col\n",
        "\n",
        "# Convert string columns to integer\n",
        "train_df = train_df.withColumn('vendor_id', col('vendor_id').cast('int'))\n",
        "train_df = train_df.withColumn('passenger_count', col('passenger_count').cast('int'))\n",
        "train_df = train_df.withColumn('pickup_longitude', col('pickup_longitude').cast('int'))\n",
        "train_df = train_df.withColumn('pickup_latitude', col('pickup_latitude').cast('int'))\n",
        "train_df = train_df.withColumn('dropoff_longitude', col('dropoff_longitude').cast('int'))\n",
        "train_df = train_df.withColumn('dropoff_latitude', col('dropoff_latitude').cast('int'))\n",
        "train_df = train_df.withColumn('trip_duration', col('trip_duration').cast('int'))\n",
        "\n",
        "# Show the updated DataFrame schema\n",
        "train_df.printSchema()\n"
      ],
      "metadata": {
        "colab": {
          "base_uri": "https://localhost:8080/"
        },
        "id": "JN3WVbsfWAmF",
        "outputId": "cad80c21-bcbf-4d72-c4e6-78c3dc5bf4f6"
      },
      "execution_count": 18,
      "outputs": [
        {
          "output_type": "stream",
          "name": "stdout",
          "text": [
            "root\n",
            " |-- vendor_id: integer (nullable = true)\n",
            " |-- passenger_count: integer (nullable = true)\n",
            " |-- pickup_longitude: integer (nullable = true)\n",
            " |-- pickup_latitude: integer (nullable = true)\n",
            " |-- dropoff_longitude: integer (nullable = true)\n",
            " |-- dropoff_latitude: integer (nullable = true)\n",
            " |-- store_and_fwd_flag: integer (nullable = false)\n",
            " |-- trip_duration: integer (nullable = true)\n",
            " |-- distance: float (nullable = true)\n",
            " |-- hour: integer (nullable = true)\n",
            " |-- minute: integer (nullable = true)\n",
            " |-- minute_oftheday: integer (nullable = true)\n",
            " |-- day_week: integer (nullable = true)\n",
            " |-- month: integer (nullable = true)\n",
            "\n"
          ]
        }
      ]
    },
    {
      "cell_type": "code",
      "source": [
        "# Convert string columns to integer\n",
        "test_df = test_df.withColumn('vendor_id', col('vendor_id').cast('int'))\n",
        "test_df = test_df.withColumn('passenger_count', col('passenger_count').cast('int'))\n",
        "test_df = test_df.withColumn('pickup_longitude', col('pickup_longitude').cast('int'))\n",
        "test_df = test_df.withColumn('pickup_latitude', col('pickup_latitude').cast('int'))\n",
        "test_df = test_df.withColumn('dropoff_longitude', col('dropoff_longitude').cast('int'))\n",
        "test_df = test_df.withColumn('dropoff_latitude', col('dropoff_latitude').cast('int'))\n",
        "\n",
        "\n",
        "test_df.printSchema()\n"
      ],
      "metadata": {
        "colab": {
          "base_uri": "https://localhost:8080/"
        },
        "id": "6x9PeL0XYWnr",
        "outputId": "f55301eb-96f1-4105-d83a-c609676fe60f"
      },
      "execution_count": 19,
      "outputs": [
        {
          "output_type": "stream",
          "name": "stdout",
          "text": [
            "root\n",
            " |-- vendor_id: integer (nullable = true)\n",
            " |-- passenger_count: integer (nullable = true)\n",
            " |-- pickup_longitude: integer (nullable = true)\n",
            " |-- pickup_latitude: integer (nullable = true)\n",
            " |-- dropoff_longitude: integer (nullable = true)\n",
            " |-- dropoff_latitude: integer (nullable = true)\n",
            " |-- store_and_fwd_flag: integer (nullable = false)\n",
            " |-- distance: float (nullable = true)\n",
            " |-- hour: integer (nullable = true)\n",
            " |-- minute: integer (nullable = true)\n",
            " |-- minute_oftheday: integer (nullable = true)\n",
            " |-- day_week: integer (nullable = true)\n",
            " |-- month: integer (nullable = true)\n",
            "\n"
          ]
        }
      ]
    },
    {
      "cell_type": "code",
      "source": [
        "from pyspark.sql.functions import  log2\n",
        "# Copy DataFrame\n",
        "train_f = train_df\n",
        "\n",
        "# Convert distance to log2\n",
        "train_f = train_f.withColumn(\"distance\", log2(col(\"distance\") + 1))\n",
        "\n",
        "# Calculate mean and standard deviation for train_df\n",
        "mean_distance = train_f.agg({\"distance\": \"mean\"}).collect()[0][0]\n",
        "sd_distance = train_f.agg({\"distance\": \"stddev\"}).collect()[0][0]\n",
        "lower_bound_distance = mean_distance - (3 * sd_distance)\n",
        "upper_bound_distance = mean_distance + (3 * sd_distance)\n",
        "\n",
        "# Filter out the outliers\n",
        "train_f = train_f.filter((col(\"distance\") > lower_bound_distance) & (col(\"distance\") < upper_bound_distance))\n",
        "\n",
        "# Convert PySpark DataFrame to Pandas for visualization\n",
        "train_pd = train_f.select(\"distance\").toPandas()\n",
        "\n",
        "# Plot histograms\n",
        "fig, axes = plt.subplots(1, 2, figsize=(15, 5))\n",
        "train_df.select(\"distance\").toPandas().hist(ax=axes[0], edgecolor=\"black\")\n",
        "train_pd.hist(ax=axes[1], edgecolor=\"black\")\n",
        "\n",
        "axes[0].set_title(\"Original train distance\")\n",
        "axes[1].set_title(\"Distance without outliers train\")\n",
        "plt.tight_layout()\n",
        "plt.show()"
      ],
      "metadata": {
        "colab": {
          "base_uri": "https://localhost:8080/",
          "height": 482
        },
        "id": "X4f-P3YVO0bt",
        "outputId": "d67e0f65-11b2-49ff-cec7-fb84d2918174"
      },
      "execution_count": 24,
      "outputs": [
        {
          "output_type": "display_data",
          "data": {
            "text/plain": [
              "<Figure size 1500x500 with 2 Axes>"
            ],
            "image/png": "[encoded data removed]"
          },
          "metadata": {}
        }
      ]
    },
    {
      "cell_type": "code",
      "source": [
        "# after apply log in distance it is normally distributed and Skewness Reduction\n",
        "from pyspark.sql.functions import col, monotonically_increasing_id\n",
        "\n",
        "train_df = train_df.withColumn(\"index\", monotonically_increasing_id())\n",
        "train_df = train_df.select(\"*\", (col(\"index\") + 1).alias(\"index\")).drop(\"index\")\n",
        "\n",
        "\n",
        "test_df = test_df.withColumn(\"distance\", log2(col(\"distance\") + 1))\n",
        "\n",
        "# Show the modified DataFrames\n",
        "train_df.show()\n",
        "test_df.show()"
      ],
      "metadata": {
        "colab": {
          "base_uri": "https://localhost:8080/"
        },
        "id": "2zMXctSgPcrG",
        "outputId": "f67e5a11-0aec-496d-b997-33ba936d0088"
      },
      "execution_count": 25,
      "outputs": [
        {
          "output_type": "stream",
          "name": "stdout",
          "text": [
            "+---------+---------------+----------------+---------------+-----------------+----------------+------------------+-------------+----------+----+------+---------------+--------+-----+\n",
            "|vendor_id|passenger_count|pickup_longitude|pickup_latitude|dropoff_longitude|dropoff_latitude|store_and_fwd_flag|trip_duration|  distance|hour|minute|minute_oftheday|day_week|month|\n",
            "+---------+---------------+----------------+---------------+-----------------+----------------+------------------+-------------+----------+----+------+---------------+--------+-----+\n",
            "|        2|              1|             -73|             40|              -73|              40|                 0|          455| 0.9334063|  17|    24|           1044|       2|    3|\n",
            "|        1|              1|             -73|             40|              -73|              40|                 0|          663| 1.1238492|   0|    43|             43|       1|    6|\n",
            "|        2|              1|             -73|             40|              -74|              40|                 0|         2124| 3.9641538|  11|    35|            695|       3|    1|\n",
            "|        2|              1|             -74|             40|              -74|              40|                 0|          429| 0.9218865|  19|    32|           1172|       4|    4|\n",
            "|        2|              1|             -73|             40|              -73|              40|                 0|          435|  0.737591|  13|    30|            810|       7|    3|\n",
            "|        2|              6|             -73|             40|              -73|              40|                 0|          443| 0.6832752|  22|     1|           1321|       7|    1|\n",
            "|        1|              4|             -73|             40|              -73|              40|                 0|          341| 0.8247639|  22|    34|           1354|       6|    6|\n",
            "|        2|              1|             -73|             40|              -73|              40|                 0|         1551| 3.5530088|   7|    54|            474|       7|    5|\n",
            "|        1|              1|             -73|             40|              -73|              40|                 0|          255| 0.8155866|  23|    12|           1392|       6|    5|\n",
            "|        2|              1|             -73|             40|              -73|              40|                 0|         1225| 3.1781936|  21|    45|           1305|       5|    3|\n",
            "|        2|              1|             -73|             40|              -74|              40|                 0|         1274| 2.3636405|  22|     8|           1328|       3|    5|\n",
            "|        2|              4|             -73|             40|              -73|              40|                 0|         1128| 2.3469489|  11|    16|            676|       1|    5|\n",
            "|        2|              2|             -73|             40|              -73|              40|                 0|         1114| 1.1581175|   9|    52|            592|       6|    2|\n",
            "|        2|              1|             -73|             40|              -73|              40|                 0|          260|0.61704797|  20|    58|           1258|       4|    6|\n",
            "|        2|              1|             -73|             40|              -73|              40|                 0|         1414| 3.9617338|   0|    43|             43|       6|    5|\n",
            "|        1|              1|             -73|             40|              -73|              40|                 0|          211| 0.4086267|  15|    29|            929|       2|    5|\n",
            "|        2|              1|             -73|             40|              -73|              40|                 0|         2316| 2.1276453|  17|    29|           1049|       2|    4|\n",
            "|        1|              1|             -73|             40|              -73|              40|                 0|          731| 1.5755806|   8|    48|            528|       5|    4|\n",
            "|        1|              1|             -74|             40|              -73|              40|                 0|         1317| 2.8600552|   9|    55|            595|       2|    6|\n",
            "|        2|              1|             -73|             40|              -73|              40|                 0|          251|0.80945194|  13|    47|            827|       1|    6|\n",
            "+---------+---------------+----------------+---------------+-----------------+----------------+------------------+-------------+----------+----+------+---------------+--------+-----+\n",
            "only showing top 20 rows\n",
            "\n",
            "+---------+---------------+----------------+---------------+-----------------+----------------+------------------+------------------+----+------+---------------+--------+-----+\n",
            "|vendor_id|passenger_count|pickup_longitude|pickup_latitude|dropoff_longitude|dropoff_latitude|store_and_fwd_flag|          distance|hour|minute|minute_oftheday|day_week|month|\n",
            "+---------+---------------+----------------+---------------+-----------------+----------------+------------------+------------------+----+------+---------------+--------+-----+\n",
            "|        1|              1|             -73|             40|              -73|              40|                 0| 1.435274244660843|  23|    59|           1439|       5|    6|\n",
            "|        1|              1|             -73|             40|              -73|              40|                 0|1.4395477358564481|  23|    59|           1439|       5|    6|\n",
            "|        1|              1|             -73|             40|              -73|              40|                 0| 0.857743568368357|  23|    59|           1439|       5|    6|\n",
            "|        2|              1|             -73|             40|              -73|              40|                 0| 2.095164551432453|  23|    59|           1439|       5|    6|\n",
            "|        1|              1|             -73|             40|              -73|              40|                 0| 0.675907083942128|  23|    59|           1439|       5|    6|\n",
            "|        1|              1|             -73|             40|              -73|              40|                 0|1.8473149870815058|  23|    59|           1439|       5|    6|\n",
            "|        1|              1|             -73|             40|              -73|              40|                 0|1.6704382016886632|  23|    59|           1439|       5|    6|\n",
            "|        1|              2|             -74|             40|              -73|              40|                 0|1.5128741364531093|  23|    59|           1439|       5|    6|\n",
            "|        2|              2|             -73|             40|              -73|              40|                 0| 3.668031007999363|  23|    58|           1438|       5|    6|\n",
            "|        2|              1|             -73|             40|              -73|              40|                 0|1.0916825006023452|  23|    58|           1438|       5|    6|\n",
            "|        1|              4|             -73|             40|              -73|              40|                 0|1.9816922607557907|  23|    58|           1438|       5|    6|\n",
            "|        2|              1|             -73|             40|              -73|              40|                 0|0.5759006545473917|  23|    58|           1438|       5|    6|\n",
            "|        1|              1|             -73|             40|              -73|              40|                 0|0.9625613923829746|  23|    58|           1438|       5|    6|\n",
            "|        2|              1|             -73|             40|              -73|              40|                 0|1.3899970350723285|  23|    57|           1437|       5|    6|\n",
            "|        1|              1|             -73|             40|              -73|              40|                 0|2.1309051491598168|  23|    57|           1437|       5|    6|\n",
            "|        1|              1|             -73|             40|              -73|              40|                 0|1.9953168869761717|  23|    57|           1437|       5|    6|\n",
            "|        2|              1|             -74|             40|              -73|              40|                 0|1.6937350431586853|  23|    56|           1436|       5|    6|\n",
            "|        2|              5|             -73|             40|              -73|              40|                 0|1.0601907630589444|  23|    55|           1435|       5|    6|\n",
            "|        2|              1|             -73|             40|              -73|              40|                 0|0.5148664422327849|  23|    55|           1435|       5|    6|\n",
            "|        2|              1|             -73|             40|              -73|              40|                 0| 2.156242662538548|  23|    55|           1435|       5|    6|\n",
            "+---------+---------------+----------------+---------------+-----------------+----------------+------------------+------------------+----+------+---------------+--------+-----+\n",
            "only showing top 20 rows\n",
            "\n"
          ]
        }
      ]
    },
    {
      "cell_type": "code",
      "source": [
        "# removing \"minute_oftheday\" due to no correlation with the duration\n",
        "\n",
        "train_df = train_df.drop('minute_oftheday')\n",
        "\n",
        "test_df = test_df.drop('minute_oftheday')"
      ],
      "metadata": {
        "id": "7t1p4AJqPQmy"
      },
      "execution_count": 26,
      "outputs": []
    },
    {
      "cell_type": "code",
      "source": [
        "from pyspark.ml.feature import VectorAssembler\n",
        "from pyspark.ml.regression import GBTRegressor\n",
        "from pyspark.ml import Pipeline\n",
        "\n",
        "feature_cols = [\"vendor_id\", \"passenger_count\", \"pickup_longitude\", \"pickup_latitude\", \"dropoff_longitude\", \"dropoff_latitude\", \"distance\", \"hour\", \"minute\", \"day_week\", \"month\"]\n",
        "vector_assembler = VectorAssembler(inputCols=feature_cols, outputCol=\"features\")\n",
        "\n",
        "# Initialize GBTRegressor\n",
        "gbt = GBTRegressor(featuresCol=\"features\", labelCol=\"trip_duration\", maxIter=10, seed=42)\n",
        "\n",
        "# Create a pipeline\n",
        "pipeline = Pipeline(stages=[vector_assembler, gbt])\n",
        "\n",
        "# Fit the model\n",
        "model_pipeline = pipeline.fit(train_df)\n",
        "\n"
      ],
      "metadata": {
        "id": "O7ze96zdbxXb"
      },
      "execution_count": 28,
      "outputs": []
    },
    {
      "cell_type": "code",
      "source": [
        "test_predictions = model_pipeline.transform(test_df)\n",
        "\n",
        "# Select the columns of interest (including predicted 'trip_duration')\n",
        "result = test_predictions.select(\"vendor_id\", \"passenger_count\", \"pickup_longitude\", \"pickup_latitude\",\n",
        "                                 \"dropoff_longitude\", \"dropoff_latitude\", \"store_and_fwd_flag\", \"distance\",\n",
        "                                 \"hour\", \"minute\", \"day_week\", \"month\", \"prediction\")\n",
        "\n",
        "# the predicted trip duartion values for test dataset\n",
        "result.show()\n",
        "\n"
      ],
      "metadata": {
        "colab": {
          "base_uri": "https://localhost:8080/"
        },
        "id": "PmTPQGA_gnpC",
        "outputId": "ed6c061e-7f7f-4b71-b103-5aa84e83ca7d"
      },
      "execution_count": 31,
      "outputs": [
        {
          "output_type": "stream",
          "name": "stdout",
          "text": [
            "+---------+---------------+----------------+---------------+-----------------+----------------+------------------+------------------+----+------+--------+-----+------------------+\n",
            "|vendor_id|passenger_count|pickup_longitude|pickup_latitude|dropoff_longitude|dropoff_latitude|store_and_fwd_flag|          distance|hour|minute|day_week|month|        prediction|\n",
            "+---------+---------------+----------------+---------------+-----------------+----------------+------------------+------------------+----+------+--------+-----+------------------+\n",
            "|        1|              1|             -73|             40|              -73|              40|                 0| 1.435274244660843|  23|    59|       5|    6| 753.5106447792517|\n",
            "|        1|              1|             -73|             40|              -73|              40|                 0|1.4395477358564481|  23|    59|       5|    6| 753.5106447792517|\n",
            "|        1|              1|             -73|             40|              -73|              40|                 0| 0.857743568368357|  23|    59|       5|    6| 440.5604182518783|\n",
            "|        2|              1|             -73|             40|              -73|              40|                 0| 2.095164551432453|  23|    59|       5|    6| 1253.110409006498|\n",
            "|        1|              1|             -73|             40|              -73|              40|                 0| 0.675907083942128|  23|    59|       5|    6|334.29176488994125|\n",
            "|        1|              1|             -73|             40|              -73|              40|                 0|1.8473149870815058|  23|    59|       5|    6| 753.5106447792517|\n",
            "|        1|              1|             -73|             40|              -73|              40|                 0|1.6704382016886632|  23|    59|       5|    6| 753.5106447792517|\n",
            "|        1|              2|             -74|             40|              -73|              40|                 0|1.5128741364531093|  23|    59|       5|    6| 785.5181135488921|\n",
            "|        2|              2|             -73|             40|              -73|              40|                 0| 3.668031007999363|  23|    58|       5|    6| 1596.759292535253|\n",
            "|        2|              1|             -73|             40|              -73|              40|                 0|1.0916825006023452|  23|    58|       5|    6| 729.2820640316671|\n",
            "|        1|              4|             -73|             40|              -73|              40|                 0|1.9816922607557907|  23|    58|       5|    6|1049.7378546280413|\n",
            "|        2|              1|             -73|             40|              -73|              40|                 0|0.5759006545473917|  23|    58|       5|    6|505.82880171496214|\n",
            "|        1|              1|             -73|             40|              -73|              40|                 0|0.9625613923829746|  23|    58|       5|    6| 440.5604182518783|\n",
            "|        2|              1|             -73|             40|              -73|              40|                 0|1.3899970350723285|  23|    57|       5|    6| 871.3618495849987|\n",
            "|        1|              1|             -73|             40|              -73|              40|                 0|2.1309051491598168|  23|    57|       5|    6|1017.7303858584013|\n",
            "|        1|              1|             -73|             40|              -73|              40|                 0|1.9953168869761717|  23|    57|       5|    6|1017.7303858584013|\n",
            "|        2|              1|             -74|             40|              -73|              40|                 0|1.6937350431586853|  23|    56|       5|    6|1015.4348064487804|\n",
            "|        2|              5|             -73|             40|              -73|              40|                 0|1.0601907630589444|  23|    55|       5|    6| 761.2895328013072|\n",
            "|        2|              1|             -73|             40|              -73|              40|                 0|0.5148664422327849|  23|    55|       5|    6|505.82880171496214|\n",
            "|        2|              1|             -73|             40|              -73|              40|                 0| 2.156242662538548|  23|    55|       5|    6| 1253.110409006498|\n",
            "+---------+---------------+----------------+---------------+-----------------+----------------+------------------+------------------+----+------+--------+-----+------------------+\n",
            "only showing top 20 rows\n",
            "\n"
          ]
        }
      ]
    }
  ]
}